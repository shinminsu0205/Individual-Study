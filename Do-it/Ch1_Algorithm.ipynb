{
 "metadata": {
  "language_info": {
   "codemirror_mode": {
    "name": "ipython",
    "version": 3
   },
   "file_extension": ".py",
   "mimetype": "text/x-python",
   "name": "python",
   "nbconvert_exporter": "python",
   "pygments_lexer": "ipython3",
   "version": "3.7.6-final"
  },
  "orig_nbformat": 2,
  "kernelspec": {
   "name": "python_defaultSpec_1599911880035",
   "display_name": "Python 3.7.6 64-bit ('base': conda)"
  }
 },
 "nbformat": 4,
 "nbformat_minor": 2,
 "cells": [
  {
   "cell_type": "markdown",
   "metadata": {},
   "source": [
    "#순차구조: 한 문장씩 순서대로 처리되는 구조\n",
    "차구조: 한 문장씩 순서대로 처리되는 구조\n",
    "#선택구조: 조건식처럼 평가한 결과에 따라 실행흐름이 변경되는 구조\n",
    "\n",
    "올바른 알고리즘: 어떤 경우에도 실행결과가 똑같이 나오는 것."
   ]
  },
  {
   "cell_type": "code",
   "execution_count": 3,
   "metadata": {
    "tags": []
   },
   "outputs": [
    {
     "output_type": "stream",
     "name": "stdout",
     "text": "세 정수의 최댓값을 구합니다\n최댓값은 3입니다.\n"
    }
   ],
   "source": [
    "print('세 정수의 최댓값을 구합니다')\n",
    "a = int(input('정수 a:'))\n",
    "b = int(input('정수 b:'))\n",
    "c = int(input('정수 c:'))\n",
    "\n",
    "maximum = a\n",
    "if b > maximum:\n",
    "    maximum = b\n",
    "if c > maximum:\n",
    "    maximum = c\n",
    "\n",
    "print(f'최댓값은 {maximum}입니다.')"
   ]
  },
  {
   "cell_type": "code",
   "execution_count": 4,
   "metadata": {},
   "outputs": [],
   "source": [
    "def max3(a,b,c):\n",
    "    maximum = a\n",
    "    if b > maximum:\n",
    "        maximum = b\n",
    "    if c > maximum:\n",
    "        maximum = c\n",
    "    \n",
    "    return maximum\n",
    "\n"
   ]
  }
 ]
}