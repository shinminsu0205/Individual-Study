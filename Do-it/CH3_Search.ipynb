{
 "metadata": {
  "language_info": {
   "codemirror_mode": {
    "name": "ipython",
    "version": 3
   },
   "file_extension": ".py",
   "mimetype": "text/x-python",
   "name": "python",
   "nbconvert_exporter": "python",
   "pygments_lexer": "ipython3",
   "version": "3.7.6-final"
  },
  "orig_nbformat": 2,
  "kernelspec": {
   "name": "python3",
   "display_name": "Python 3.7.6 64-bit (conda)",
   "metadata": {
    "interpreter": {
     "hash": "7062ef45951963c95420ba42edbf7fe5dd6eb9cd0e057cc38d6ea514fa541727"
    }
   }
  }
 },
 "nbformat": 4,
 "nbformat_minor": 2,
 "cells": [
  {
   "cell_type": "code",
   "execution_count": 5,
   "metadata": {},
   "outputs": [
    {
     "output_type": "stream",
     "name": "stdout",
     "text": [
      "검색값은 x[3]에 있습니다.\n"
     ]
    }
   ],
   "source": [
    "# 선형 검색 알고리즘\n",
    "\n",
    "from typing import Any, Sequence\n",
    "\n",
    "def seq_search(a: Sequence, key: Any) -> int:\n",
    "    i = 0\n",
    "\n",
    "    while True:\n",
    "        if i == len(a):\n",
    "            return -1\n",
    "        if a[i] == key:\n",
    "            return i\n",
    "        i+=1\n",
    "\n",
    "if __name__ == '__main__':\n",
    "    num = int(input(\"원소 수를 입력하세요.: \"))\n",
    "    x = [None] * num\n",
    "\n",
    "    for i in range(num):\n",
    "        x[i] = int(input(f'x[{i}]:'))\n",
    "\n",
    "    ky = int(input('검색할 값을 입력하세요:'))\n",
    "    idx = seq_search(x, ky)\n",
    "\n",
    "    if idx==-1:\n",
    "        print(\"검색값을 갖는 원소가 없습니다.\")\n",
    "\n",
    "    else:\n",
    "        print(f\"검색값은 x[{idx}]에 있습니다.\")"
   ]
  },
  {
   "cell_type": "code",
   "execution_count": 7,
   "metadata": {},
   "outputs": [
    {
     "output_type": "stream",
     "name": "stdout",
     "text": [
      "검색값을 갖는 원소가 없습니다.\n"
     ]
    }
   ],
   "source": [
    "# for문으로 구성하는 선형 검색 알고리즘\n",
    "from typing import Sequence, Any\n",
    "\n",
    "def seq_search(a : Sequence, key: Any) -> int:\n",
    "    for i in range(len(a)):\n",
    "        if a[i] == key:\n",
    "            return i\n",
    "        else:\n",
    "            return -1\n",
    "\n",
    "if __name__ == '__main__':\n",
    "    num = int(input(\"원소 수를 입력하세요.: \"))\n",
    "    x = [None] * num\n",
    "\n",
    "    for i in range(num):\n",
    "        x[i] = int(input(f'x[{i}]:'))\n",
    "\n",
    "    ky = int(input('검색할 값을 입력하세요:'))\n",
    "    idx = seq_search(x, ky)\n",
    "\n",
    "    if idx==-1:\n",
    "        print(\"검색값을 갖는 원소가 없습니다.\")\n",
    "\n",
    "    else:\n",
    "        print(f\"검색값은 x[{idx}]에 있습니다.\")"
   ]
  },
  {
   "cell_type": "code",
   "execution_count": null,
   "metadata": {},
   "outputs": [],
   "source": [
    "#seq_search"
   ]
  }
 ]
}